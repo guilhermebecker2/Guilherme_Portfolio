{
 "cells": [
  {
   "cell_type": "code",
   "execution_count": 1,
   "metadata": {},
   "outputs": [],
   "source": [
    "%matplotlib notebook"
   ]
  },
  {
   "cell_type": "code",
   "execution_count": 2,
   "metadata": {},
   "outputs": [],
   "source": [
    "import pandas as pd\n",
    "import numpy as np \n",
    "import matplotlib.pyplot as plt\n",
    "import seaborn as sns\n",
    "import matplotlib\n",
    "import scipy.stats as stats"
   ]
  },
  {
   "cell_type": "markdown",
   "metadata": {},
   "source": [
    "## Importing the data and cleaning it"
   ]
  },
  {
   "cell_type": "code",
   "execution_count": 3,
   "metadata": {},
   "outputs": [
    {
     "ename": "HTTPError",
     "evalue": "HTTP Error 500: Internal Server Error",
     "output_type": "error",
     "traceback": [
      "\u001b[1;31m---------------------------------------------------------------------------\u001b[0m",
      "\u001b[1;31mHTTPError\u001b[0m                                 Traceback (most recent call last)",
      "\u001b[1;32m<ipython-input-3-5ed1d781a436>\u001b[0m in \u001b[0;36m<module>\u001b[1;34m\u001b[0m\n\u001b[1;32m----> 1\u001b[1;33m \u001b[0mdf_states\u001b[0m \u001b[1;33m=\u001b[0m \u001b[0mpd\u001b[0m\u001b[1;33m.\u001b[0m\u001b[0mread_csv\u001b[0m\u001b[1;33m(\u001b[0m\u001b[1;34m'https://raw.githubusercontent.com/wcota/covid19br/master/cases-brazil-total.csv'\u001b[0m\u001b[1;33m)\u001b[0m\u001b[1;33m\u001b[0m\u001b[1;33m\u001b[0m\u001b[0m\n\u001b[0m",
      "\u001b[1;32m~\\anaconda3\\lib\\site-packages\\pandas\\io\\parsers.py\u001b[0m in \u001b[0;36mparser_f\u001b[1;34m(filepath_or_buffer, sep, delimiter, header, names, index_col, usecols, squeeze, prefix, mangle_dupe_cols, dtype, engine, converters, true_values, false_values, skipinitialspace, skiprows, skipfooter, nrows, na_values, keep_default_na, na_filter, verbose, skip_blank_lines, parse_dates, infer_datetime_format, keep_date_col, date_parser, dayfirst, cache_dates, iterator, chunksize, compression, thousands, decimal, lineterminator, quotechar, quoting, doublequote, escapechar, comment, encoding, dialect, error_bad_lines, warn_bad_lines, delim_whitespace, low_memory, memory_map, float_precision)\u001b[0m\n\u001b[0;32m    674\u001b[0m         )\n\u001b[0;32m    675\u001b[0m \u001b[1;33m\u001b[0m\u001b[0m\n\u001b[1;32m--> 676\u001b[1;33m         \u001b[1;32mreturn\u001b[0m \u001b[0m_read\u001b[0m\u001b[1;33m(\u001b[0m\u001b[0mfilepath_or_buffer\u001b[0m\u001b[1;33m,\u001b[0m \u001b[0mkwds\u001b[0m\u001b[1;33m)\u001b[0m\u001b[1;33m\u001b[0m\u001b[1;33m\u001b[0m\u001b[0m\n\u001b[0m\u001b[0;32m    677\u001b[0m \u001b[1;33m\u001b[0m\u001b[0m\n\u001b[0;32m    678\u001b[0m     \u001b[0mparser_f\u001b[0m\u001b[1;33m.\u001b[0m\u001b[0m__name__\u001b[0m \u001b[1;33m=\u001b[0m \u001b[0mname\u001b[0m\u001b[1;33m\u001b[0m\u001b[1;33m\u001b[0m\u001b[0m\n",
      "\u001b[1;32m~\\anaconda3\\lib\\site-packages\\pandas\\io\\parsers.py\u001b[0m in \u001b[0;36m_read\u001b[1;34m(filepath_or_buffer, kwds)\u001b[0m\n\u001b[0;32m    429\u001b[0m     \u001b[1;31m# See https://github.com/python/mypy/issues/1297\u001b[0m\u001b[1;33m\u001b[0m\u001b[1;33m\u001b[0m\u001b[1;33m\u001b[0m\u001b[0m\n\u001b[0;32m    430\u001b[0m     fp_or_buf, _, compression, should_close = get_filepath_or_buffer(\n\u001b[1;32m--> 431\u001b[1;33m         \u001b[0mfilepath_or_buffer\u001b[0m\u001b[1;33m,\u001b[0m \u001b[0mencoding\u001b[0m\u001b[1;33m,\u001b[0m \u001b[0mcompression\u001b[0m\u001b[1;33m\u001b[0m\u001b[1;33m\u001b[0m\u001b[0m\n\u001b[0m\u001b[0;32m    432\u001b[0m     )\n\u001b[0;32m    433\u001b[0m     \u001b[0mkwds\u001b[0m\u001b[1;33m[\u001b[0m\u001b[1;34m\"compression\"\u001b[0m\u001b[1;33m]\u001b[0m \u001b[1;33m=\u001b[0m \u001b[0mcompression\u001b[0m\u001b[1;33m\u001b[0m\u001b[1;33m\u001b[0m\u001b[0m\n",
      "\u001b[1;32m~\\anaconda3\\lib\\site-packages\\pandas\\io\\common.py\u001b[0m in \u001b[0;36mget_filepath_or_buffer\u001b[1;34m(filepath_or_buffer, encoding, compression, mode)\u001b[0m\n\u001b[0;32m    170\u001b[0m \u001b[1;33m\u001b[0m\u001b[0m\n\u001b[0;32m    171\u001b[0m     \u001b[1;32mif\u001b[0m \u001b[0misinstance\u001b[0m\u001b[1;33m(\u001b[0m\u001b[0mfilepath_or_buffer\u001b[0m\u001b[1;33m,\u001b[0m \u001b[0mstr\u001b[0m\u001b[1;33m)\u001b[0m \u001b[1;32mand\u001b[0m \u001b[0mis_url\u001b[0m\u001b[1;33m(\u001b[0m\u001b[0mfilepath_or_buffer\u001b[0m\u001b[1;33m)\u001b[0m\u001b[1;33m:\u001b[0m\u001b[1;33m\u001b[0m\u001b[1;33m\u001b[0m\u001b[0m\n\u001b[1;32m--> 172\u001b[1;33m         \u001b[0mreq\u001b[0m \u001b[1;33m=\u001b[0m \u001b[0murlopen\u001b[0m\u001b[1;33m(\u001b[0m\u001b[0mfilepath_or_buffer\u001b[0m\u001b[1;33m)\u001b[0m\u001b[1;33m\u001b[0m\u001b[1;33m\u001b[0m\u001b[0m\n\u001b[0m\u001b[0;32m    173\u001b[0m         \u001b[0mcontent_encoding\u001b[0m \u001b[1;33m=\u001b[0m \u001b[0mreq\u001b[0m\u001b[1;33m.\u001b[0m\u001b[0mheaders\u001b[0m\u001b[1;33m.\u001b[0m\u001b[0mget\u001b[0m\u001b[1;33m(\u001b[0m\u001b[1;34m\"Content-Encoding\"\u001b[0m\u001b[1;33m,\u001b[0m \u001b[1;32mNone\u001b[0m\u001b[1;33m)\u001b[0m\u001b[1;33m\u001b[0m\u001b[1;33m\u001b[0m\u001b[0m\n\u001b[0;32m    174\u001b[0m         \u001b[1;32mif\u001b[0m \u001b[0mcontent_encoding\u001b[0m \u001b[1;33m==\u001b[0m \u001b[1;34m\"gzip\"\u001b[0m\u001b[1;33m:\u001b[0m\u001b[1;33m\u001b[0m\u001b[1;33m\u001b[0m\u001b[0m\n",
      "\u001b[1;32m~\\anaconda3\\lib\\site-packages\\pandas\\io\\common.py\u001b[0m in \u001b[0;36murlopen\u001b[1;34m(*args, **kwargs)\u001b[0m\n\u001b[0;32m    139\u001b[0m     \u001b[1;32mimport\u001b[0m \u001b[0murllib\u001b[0m\u001b[1;33m.\u001b[0m\u001b[0mrequest\u001b[0m\u001b[1;33m\u001b[0m\u001b[1;33m\u001b[0m\u001b[0m\n\u001b[0;32m    140\u001b[0m \u001b[1;33m\u001b[0m\u001b[0m\n\u001b[1;32m--> 141\u001b[1;33m     \u001b[1;32mreturn\u001b[0m \u001b[0murllib\u001b[0m\u001b[1;33m.\u001b[0m\u001b[0mrequest\u001b[0m\u001b[1;33m.\u001b[0m\u001b[0murlopen\u001b[0m\u001b[1;33m(\u001b[0m\u001b[1;33m*\u001b[0m\u001b[0margs\u001b[0m\u001b[1;33m,\u001b[0m \u001b[1;33m**\u001b[0m\u001b[0mkwargs\u001b[0m\u001b[1;33m)\u001b[0m\u001b[1;33m\u001b[0m\u001b[1;33m\u001b[0m\u001b[0m\n\u001b[0m\u001b[0;32m    142\u001b[0m \u001b[1;33m\u001b[0m\u001b[0m\n\u001b[0;32m    143\u001b[0m \u001b[1;33m\u001b[0m\u001b[0m\n",
      "\u001b[1;32m~\\anaconda3\\lib\\urllib\\request.py\u001b[0m in \u001b[0;36murlopen\u001b[1;34m(url, data, timeout, cafile, capath, cadefault, context)\u001b[0m\n\u001b[0;32m    220\u001b[0m     \u001b[1;32melse\u001b[0m\u001b[1;33m:\u001b[0m\u001b[1;33m\u001b[0m\u001b[1;33m\u001b[0m\u001b[0m\n\u001b[0;32m    221\u001b[0m         \u001b[0mopener\u001b[0m \u001b[1;33m=\u001b[0m \u001b[0m_opener\u001b[0m\u001b[1;33m\u001b[0m\u001b[1;33m\u001b[0m\u001b[0m\n\u001b[1;32m--> 222\u001b[1;33m     \u001b[1;32mreturn\u001b[0m \u001b[0mopener\u001b[0m\u001b[1;33m.\u001b[0m\u001b[0mopen\u001b[0m\u001b[1;33m(\u001b[0m\u001b[0murl\u001b[0m\u001b[1;33m,\u001b[0m \u001b[0mdata\u001b[0m\u001b[1;33m,\u001b[0m \u001b[0mtimeout\u001b[0m\u001b[1;33m)\u001b[0m\u001b[1;33m\u001b[0m\u001b[1;33m\u001b[0m\u001b[0m\n\u001b[0m\u001b[0;32m    223\u001b[0m \u001b[1;33m\u001b[0m\u001b[0m\n\u001b[0;32m    224\u001b[0m \u001b[1;32mdef\u001b[0m \u001b[0minstall_opener\u001b[0m\u001b[1;33m(\u001b[0m\u001b[0mopener\u001b[0m\u001b[1;33m)\u001b[0m\u001b[1;33m:\u001b[0m\u001b[1;33m\u001b[0m\u001b[1;33m\u001b[0m\u001b[0m\n",
      "\u001b[1;32m~\\anaconda3\\lib\\urllib\\request.py\u001b[0m in \u001b[0;36mopen\u001b[1;34m(self, fullurl, data, timeout)\u001b[0m\n\u001b[0;32m    529\u001b[0m         \u001b[1;32mfor\u001b[0m \u001b[0mprocessor\u001b[0m \u001b[1;32min\u001b[0m \u001b[0mself\u001b[0m\u001b[1;33m.\u001b[0m\u001b[0mprocess_response\u001b[0m\u001b[1;33m.\u001b[0m\u001b[0mget\u001b[0m\u001b[1;33m(\u001b[0m\u001b[0mprotocol\u001b[0m\u001b[1;33m,\u001b[0m \u001b[1;33m[\u001b[0m\u001b[1;33m]\u001b[0m\u001b[1;33m)\u001b[0m\u001b[1;33m:\u001b[0m\u001b[1;33m\u001b[0m\u001b[1;33m\u001b[0m\u001b[0m\n\u001b[0;32m    530\u001b[0m             \u001b[0mmeth\u001b[0m \u001b[1;33m=\u001b[0m \u001b[0mgetattr\u001b[0m\u001b[1;33m(\u001b[0m\u001b[0mprocessor\u001b[0m\u001b[1;33m,\u001b[0m \u001b[0mmeth_name\u001b[0m\u001b[1;33m)\u001b[0m\u001b[1;33m\u001b[0m\u001b[1;33m\u001b[0m\u001b[0m\n\u001b[1;32m--> 531\u001b[1;33m             \u001b[0mresponse\u001b[0m \u001b[1;33m=\u001b[0m \u001b[0mmeth\u001b[0m\u001b[1;33m(\u001b[0m\u001b[0mreq\u001b[0m\u001b[1;33m,\u001b[0m \u001b[0mresponse\u001b[0m\u001b[1;33m)\u001b[0m\u001b[1;33m\u001b[0m\u001b[1;33m\u001b[0m\u001b[0m\n\u001b[0m\u001b[0;32m    532\u001b[0m \u001b[1;33m\u001b[0m\u001b[0m\n\u001b[0;32m    533\u001b[0m         \u001b[1;32mreturn\u001b[0m \u001b[0mresponse\u001b[0m\u001b[1;33m\u001b[0m\u001b[1;33m\u001b[0m\u001b[0m\n",
      "\u001b[1;32m~\\anaconda3\\lib\\urllib\\request.py\u001b[0m in \u001b[0;36mhttp_response\u001b[1;34m(self, request, response)\u001b[0m\n\u001b[0;32m    639\u001b[0m         \u001b[1;32mif\u001b[0m \u001b[1;32mnot\u001b[0m \u001b[1;33m(\u001b[0m\u001b[1;36m200\u001b[0m \u001b[1;33m<=\u001b[0m \u001b[0mcode\u001b[0m \u001b[1;33m<\u001b[0m \u001b[1;36m300\u001b[0m\u001b[1;33m)\u001b[0m\u001b[1;33m:\u001b[0m\u001b[1;33m\u001b[0m\u001b[1;33m\u001b[0m\u001b[0m\n\u001b[0;32m    640\u001b[0m             response = self.parent.error(\n\u001b[1;32m--> 641\u001b[1;33m                 'http', request, response, code, msg, hdrs)\n\u001b[0m\u001b[0;32m    642\u001b[0m \u001b[1;33m\u001b[0m\u001b[0m\n\u001b[0;32m    643\u001b[0m         \u001b[1;32mreturn\u001b[0m \u001b[0mresponse\u001b[0m\u001b[1;33m\u001b[0m\u001b[1;33m\u001b[0m\u001b[0m\n",
      "\u001b[1;32m~\\anaconda3\\lib\\urllib\\request.py\u001b[0m in \u001b[0;36merror\u001b[1;34m(self, proto, *args)\u001b[0m\n\u001b[0;32m    567\u001b[0m         \u001b[1;32mif\u001b[0m \u001b[0mhttp_err\u001b[0m\u001b[1;33m:\u001b[0m\u001b[1;33m\u001b[0m\u001b[1;33m\u001b[0m\u001b[0m\n\u001b[0;32m    568\u001b[0m             \u001b[0margs\u001b[0m \u001b[1;33m=\u001b[0m \u001b[1;33m(\u001b[0m\u001b[0mdict\u001b[0m\u001b[1;33m,\u001b[0m \u001b[1;34m'default'\u001b[0m\u001b[1;33m,\u001b[0m \u001b[1;34m'http_error_default'\u001b[0m\u001b[1;33m)\u001b[0m \u001b[1;33m+\u001b[0m \u001b[0morig_args\u001b[0m\u001b[1;33m\u001b[0m\u001b[1;33m\u001b[0m\u001b[0m\n\u001b[1;32m--> 569\u001b[1;33m             \u001b[1;32mreturn\u001b[0m \u001b[0mself\u001b[0m\u001b[1;33m.\u001b[0m\u001b[0m_call_chain\u001b[0m\u001b[1;33m(\u001b[0m\u001b[1;33m*\u001b[0m\u001b[0margs\u001b[0m\u001b[1;33m)\u001b[0m\u001b[1;33m\u001b[0m\u001b[1;33m\u001b[0m\u001b[0m\n\u001b[0m\u001b[0;32m    570\u001b[0m \u001b[1;33m\u001b[0m\u001b[0m\n\u001b[0;32m    571\u001b[0m \u001b[1;31m# XXX probably also want an abstract factory that knows when it makes\u001b[0m\u001b[1;33m\u001b[0m\u001b[1;33m\u001b[0m\u001b[1;33m\u001b[0m\u001b[0m\n",
      "\u001b[1;32m~\\anaconda3\\lib\\urllib\\request.py\u001b[0m in \u001b[0;36m_call_chain\u001b[1;34m(self, chain, kind, meth_name, *args)\u001b[0m\n\u001b[0;32m    501\u001b[0m         \u001b[1;32mfor\u001b[0m \u001b[0mhandler\u001b[0m \u001b[1;32min\u001b[0m \u001b[0mhandlers\u001b[0m\u001b[1;33m:\u001b[0m\u001b[1;33m\u001b[0m\u001b[1;33m\u001b[0m\u001b[0m\n\u001b[0;32m    502\u001b[0m             \u001b[0mfunc\u001b[0m \u001b[1;33m=\u001b[0m \u001b[0mgetattr\u001b[0m\u001b[1;33m(\u001b[0m\u001b[0mhandler\u001b[0m\u001b[1;33m,\u001b[0m \u001b[0mmeth_name\u001b[0m\u001b[1;33m)\u001b[0m\u001b[1;33m\u001b[0m\u001b[1;33m\u001b[0m\u001b[0m\n\u001b[1;32m--> 503\u001b[1;33m             \u001b[0mresult\u001b[0m \u001b[1;33m=\u001b[0m \u001b[0mfunc\u001b[0m\u001b[1;33m(\u001b[0m\u001b[1;33m*\u001b[0m\u001b[0margs\u001b[0m\u001b[1;33m)\u001b[0m\u001b[1;33m\u001b[0m\u001b[1;33m\u001b[0m\u001b[0m\n\u001b[0m\u001b[0;32m    504\u001b[0m             \u001b[1;32mif\u001b[0m \u001b[0mresult\u001b[0m \u001b[1;32mis\u001b[0m \u001b[1;32mnot\u001b[0m \u001b[1;32mNone\u001b[0m\u001b[1;33m:\u001b[0m\u001b[1;33m\u001b[0m\u001b[1;33m\u001b[0m\u001b[0m\n\u001b[0;32m    505\u001b[0m                 \u001b[1;32mreturn\u001b[0m \u001b[0mresult\u001b[0m\u001b[1;33m\u001b[0m\u001b[1;33m\u001b[0m\u001b[0m\n",
      "\u001b[1;32m~\\anaconda3\\lib\\urllib\\request.py\u001b[0m in \u001b[0;36mhttp_error_default\u001b[1;34m(self, req, fp, code, msg, hdrs)\u001b[0m\n\u001b[0;32m    647\u001b[0m \u001b[1;32mclass\u001b[0m \u001b[0mHTTPDefaultErrorHandler\u001b[0m\u001b[1;33m(\u001b[0m\u001b[0mBaseHandler\u001b[0m\u001b[1;33m)\u001b[0m\u001b[1;33m:\u001b[0m\u001b[1;33m\u001b[0m\u001b[1;33m\u001b[0m\u001b[0m\n\u001b[0;32m    648\u001b[0m     \u001b[1;32mdef\u001b[0m \u001b[0mhttp_error_default\u001b[0m\u001b[1;33m(\u001b[0m\u001b[0mself\u001b[0m\u001b[1;33m,\u001b[0m \u001b[0mreq\u001b[0m\u001b[1;33m,\u001b[0m \u001b[0mfp\u001b[0m\u001b[1;33m,\u001b[0m \u001b[0mcode\u001b[0m\u001b[1;33m,\u001b[0m \u001b[0mmsg\u001b[0m\u001b[1;33m,\u001b[0m \u001b[0mhdrs\u001b[0m\u001b[1;33m)\u001b[0m\u001b[1;33m:\u001b[0m\u001b[1;33m\u001b[0m\u001b[1;33m\u001b[0m\u001b[0m\n\u001b[1;32m--> 649\u001b[1;33m         \u001b[1;32mraise\u001b[0m \u001b[0mHTTPError\u001b[0m\u001b[1;33m(\u001b[0m\u001b[0mreq\u001b[0m\u001b[1;33m.\u001b[0m\u001b[0mfull_url\u001b[0m\u001b[1;33m,\u001b[0m \u001b[0mcode\u001b[0m\u001b[1;33m,\u001b[0m \u001b[0mmsg\u001b[0m\u001b[1;33m,\u001b[0m \u001b[0mhdrs\u001b[0m\u001b[1;33m,\u001b[0m \u001b[0mfp\u001b[0m\u001b[1;33m)\u001b[0m\u001b[1;33m\u001b[0m\u001b[1;33m\u001b[0m\u001b[0m\n\u001b[0m\u001b[0;32m    650\u001b[0m \u001b[1;33m\u001b[0m\u001b[0m\n\u001b[0;32m    651\u001b[0m \u001b[1;32mclass\u001b[0m \u001b[0mHTTPRedirectHandler\u001b[0m\u001b[1;33m(\u001b[0m\u001b[0mBaseHandler\u001b[0m\u001b[1;33m)\u001b[0m\u001b[1;33m:\u001b[0m\u001b[1;33m\u001b[0m\u001b[1;33m\u001b[0m\u001b[0m\n",
      "\u001b[1;31mHTTPError\u001b[0m: HTTP Error 500: Internal Server Error"
     ]
    }
   ],
   "source": [
    "df_states = pd.read_csv('https://raw.githubusercontent.com/wcota/covid19br/master/cases-brazil-total.csv')"
   ]
  },
  {
   "cell_type": "code",
   "execution_count": null,
   "metadata": {},
   "outputs": [],
   "source": [
    "df = pd.read_csv('https://raw.githubusercontent.com/wcota/covid19br/master/cases-brazil-cities-time_changesOnly.csv')"
   ]
  },
  {
   "cell_type": "code",
   "execution_count": null,
   "metadata": {},
   "outputs": [],
   "source": [
    "df['date'] = pd.to_datetime(df['date'])"
   ]
  },
  {
   "cell_type": "code",
   "execution_count": null,
   "metadata": {},
   "outputs": [],
   "source": [
    "df.head(5)"
   ]
  },
  {
   "cell_type": "code",
   "execution_count": null,
   "metadata": {},
   "outputs": [],
   "source": [
    "df_population = pd.read_html('https://pt.wikipedia.org/wiki/Lista_de_unidades_federativas_do_Brasil_por_popula%C3%A7%C3%A3o')[0]\n",
    "df_population.head()"
   ]
  },
  {
   "cell_type": "code",
   "execution_count": null,
   "metadata": {},
   "outputs": [],
   "source": [
    "#Getting the abbreviations for each state\n",
    "\n",
    "df_uf = pd.read_html('https://pt.wikipedia.org/wiki/Unidades_federativas_do_Brasil')\n",
    "df_uf=df_uf[2][['Unidade federativa','Abreviação']]\n",
    "\n",
    "df_population=df_population.merge(df_uf, on='Unidade federativa')\n",
    "df_population.head()"
   ]
  },
  {
   "cell_type": "code",
   "execution_count": null,
   "metadata": {},
   "outputs": [],
   "source": [
    "def remove_space(x):\n",
    "    total = x.count(\" \")\n",
    "    list1=[]\n",
    "    for i in range(total+1):\n",
    "        list1.append(x.split(\" \")[i])\n",
    "    return int(''.join(list1))\n",
    "    "
   ]
  },
  {
   "cell_type": "code",
   "execution_count": null,
   "metadata": {},
   "outputs": [],
   "source": [
    "df_population['População'] = df_population['População'].apply(lambda x: remove_space(x))\n",
    "df_population=df_population.set_index('Posição')\n",
    "df_population['População']=pd.to_numeric(df_population['População'])\n",
    "df_population.head()"
   ]
  },
  {
   "cell_type": "code",
   "execution_count": null,
   "metadata": {},
   "outputs": [],
   "source": [
    "#This is a code I found Online that really helps me with tick format.\n",
    "\n",
    "def reformat_large_tick_values(tick_val, pos):\n",
    "    \"\"\"\n",
    "    Turns large tick values (in the billions, millions and thousands) such as 4500 into 4.5K and also appropriately turns 4000 into 4K (no zero after the decimal).\n",
    "    \"\"\"\n",
    "    if tick_val >= 1000000000:\n",
    "        val = round(tick_val/1000000000, 1)\n",
    "        new_tick_format = '{:}B'.format(val)\n",
    "    elif tick_val >= 1000000:\n",
    "        val = round(tick_val/1000000, 1)\n",
    "        new_tick_format = '{:}M'.format(val)\n",
    "    elif tick_val >= 1000:\n",
    "        val = round(tick_val/1000, 1)\n",
    "        new_tick_format = '{:}K'.format(val)\n",
    "    elif tick_val < 1000:\n",
    "        new_tick_format = round(tick_val, 1)\n",
    "    else:\n",
    "        new_tick_format = tick_val\n",
    "\n",
    "    # make new_tick_format into a string value\n",
    "    new_tick_format = str(new_tick_format)\n",
    "    \n",
    "    # code below will keep 4.5M as is but change values such as 4.0M to 4M since that zero after the decimal isn't needed\n",
    "    index_of_decimal = new_tick_format.find(\".\")\n",
    "    \n",
    "    if index_of_decimal != -1:\n",
    "        value_after_decimal = new_tick_format[index_of_decimal+1]\n",
    "        if value_after_decimal == \"0\":\n",
    "            # remove the 0 after the decimal point since it's not needed\n",
    "            new_tick_format = new_tick_format[0:index_of_decimal] + new_tick_format[index_of_decimal+2:]\n",
    "            \n",
    "    return new_tick_format"
   ]
  },
  {
   "cell_type": "markdown",
   "metadata": {},
   "source": [
    "## Let's start the visualization of the data you want to analyse!"
   ]
  },
  {
   "cell_type": "code",
   "execution_count": null,
   "metadata": {},
   "outputs": [],
   "source": [
    "information = input('If you want to see the States list, type 1. Otherwise, type 0: ')\n",
    "if information == '1':\n",
    "    display(df_population[['Unidade federativa']])"
   ]
  },
  {
   "cell_type": "code",
   "execution_count": null,
   "metadata": {},
   "outputs": [],
   "source": [
    "state_name = input('Type the State name (you can copy it from the list above) you wanna know about the COVID-19 situation(ex:São Paulo): ')\n",
    "while state_name not in list(df_population['Unidade federativa']):\n",
    "    print('')\n",
    "    print('You need to type a State name in the exactly same way as presented in the list.')\n",
    "    print('')\n",
    "    information = int(input('If you want to see the States list again, type 1. Otherwise, type 0: '))\n",
    "    print('')\n",
    "    if information == 1:\n",
    "        display(df_population[['Unidade federativa']])\n",
    "    state_name = input('Type the State name you wanna know about the COVID-19 situation(ex:São Paulo): ')\n"
   ]
  },
  {
   "cell_type": "code",
   "execution_count": null,
   "metadata": {},
   "outputs": [],
   "source": [
    "abrev_state=df_population.loc[df_population['Unidade federativa']==state_name]['Abreviação'].item()"
   ]
  },
  {
   "cell_type": "code",
   "execution_count": null,
   "metadata": {},
   "outputs": [],
   "source": [
    "#Covid situation in Brazil\n",
    "\n",
    "df_brazil = df[df['state']=='TOTAL']\n",
    "\n",
    "#Covid situation in the state where you want to know\n",
    "\n",
    "df_mystate = df[df['state']==abrev_state]\n",
    "df_mystate = df_mystate.groupby('date').sum().reset_index()"
   ]
  },
  {
   "cell_type": "code",
   "execution_count": null,
   "metadata": {},
   "outputs": [],
   "source": [
    "#Now, let's find out the population of the chosen location\n",
    "\n",
    "#Population DF\n",
    "pop_df=df_population.loc[df_population['Unidade federativa']==state_name]['População'].item()\n",
    "\n",
    "#Population Brazil\n",
    "pop_br = df_population['População'].sum()\n",
    "\n",
    "print(pop_df,pop_br)"
   ]
  },
  {
   "cell_type": "code",
   "execution_count": null,
   "metadata": {},
   "outputs": [],
   "source": [
    "#Making sure the data is sorted by the date of the cases\n",
    "\n",
    "df_mystate = df_mystate.sort_values('date',ascending=True)\n"
   ]
  },
  {
   "cell_type": "code",
   "execution_count": null,
   "metadata": {},
   "outputs": [],
   "source": [
    "#Just making sure the date is converted to DateTime\n",
    "\n",
    "df_mystate['date']=pd.to_datetime(df_mystate['date'])\n",
    "\n",
    "df_brazil['date']=pd.to_datetime(df_brazil['date'])"
   ]
  },
  {
   "cell_type": "code",
   "execution_count": null,
   "metadata": {},
   "outputs": [],
   "source": [
    "df_mystate['TotalCases']=df_mystate['newCases'].cumsum()\n",
    "df_mystate['TotalDeaths']=df_mystate['newDeaths'].cumsum()\n",
    "df_mystate.tail()"
   ]
  },
  {
   "cell_type": "code",
   "execution_count": null,
   "metadata": {},
   "outputs": [],
   "source": [
    "index_start=df_brazil['newCases'].shape[0] - df_mystate['newCases'].shape[0]"
   ]
  },
  {
   "cell_type": "markdown",
   "metadata": {},
   "source": [
    "## Now, let's see all the Covid-19 data"
   ]
  },
  {
   "cell_type": "code",
   "execution_count": null,
   "metadata": {},
   "outputs": [],
   "source": [
    "df_mystate.tail()"
   ]
  },
  {
   "cell_type": "code",
   "execution_count": null,
   "metadata": {},
   "outputs": [],
   "source": [
    "date_last = df_mystate.iloc[-1]['date'].date()\n",
    "cases_ac = '{:2,}'.format(df_mystate.iloc[-1]['TotalCases'].item())\n",
    "deaths_ac = '{:2,}'.format(df_mystate.iloc[-1]['TotalDeaths'].item())\n",
    "cases_last = '{:2,}'.format(df_mystate.iloc[-1]['newCases'].item())\n",
    "deaths_last = '{:2,}'.format(df_mystate.iloc[-1]['newDeaths'].item())\n",
    "\n",
    "\n",
    "fig, axs = plt.subplots(2,2, figsize=(9,4))\n",
    "axs[0,0].text(0.5,0.5,cases_last,\n",
    "          bbox={'facecolor':'white','alpha':1,'edgecolor':'none','pad':1},\n",
    "          ha='center', fontsize=50) \n",
    "axs[0,0].set_title('COVID-19 CASES in {}: {}'.format(state_name,date1), fontsize=10)\n",
    "\n",
    "\n",
    "axs[1,0].text(0.5,0.5,deaths_last,\n",
    "          bbox={'facecolor':'white','alpha':0.1,'edgecolor':'none','pad':1},\n",
    "          ha='center', fontsize=50) \n",
    "axs[1,0].set_title('COVID-19 DEATHS in {}: {}'.format(state_name,date1), fontsize=10)\n",
    "\n",
    "\n",
    "axs[0,1].text(0.5,0.5,cases_ac,\n",
    "          bbox={'facecolor':'white','alpha':1,'edgecolor':'none','pad':1},\n",
    "          ha='center', fontsize=50) \n",
    "axs[0,1].set_title('Acumulated COVID-19 CASES in {}'.format(state_name), fontsize=10)\n",
    "\n",
    "\n",
    "axs[1,1].text(0.5,0.5,deaths_ac,\n",
    "          bbox={'facecolor':'white','alpha':1,'edgecolor':'none','pad':1},\n",
    "          ha='center', fontsize=50) \n",
    "axs[1,1].set_title('Acumulated COVID-19 DEATHS in {}'.format(state_name), fontsize=10)\n",
    "\n",
    "\n",
    "for i in range(2):\n",
    "    for j in range(2):\n",
    "            axs[i,j].set_yticks((0,0.5))\n",
    "            axs[i,j].set_xticks((0,0.5))\n",
    "            axs[i,j].axis('off')\n",
    "\n",
    "fig.tight_layout()         \n",
    "fig.show()"
   ]
  },
  {
   "cell_type": "code",
   "execution_count": null,
   "metadata": {},
   "outputs": [],
   "source": [
    "#Plotting the graphs\n",
    "fig,axs = plt.subplots(2,2, sharex=True, figsize=(9,4))\n",
    "\n",
    "\n",
    "#Covid cases in Federal District\n",
    "\n",
    "axs[0,0].plot(df_mystate['date'],df_mystate['TotalCases'],label='Cases {}'.format(state_name))\n",
    "axs[0,0].set_title('Evolution of acumulated COVID-19 Cases',fontsize=11)\n",
    "axs[0,0].fill_between(df_mystate['date'],df_mystate['TotalCases'], alpha=0.3)\n",
    "\n",
    "#Covid deaths in Federal District\n",
    "\n",
    "axs[0,1].plot(df_mystate['date'],df_mystate['TotalDeaths'],c='r', label='Deaths {}'.format(state_name))\n",
    "axs[0,1].set_title('Evolution of acumulated COVID-19 Deaths',fontsize=11)\n",
    "axs[0,1].fill_between(df_mystate['date'],df_mystate['TotalDeaths'],color='red', alpha=0.3)\n",
    "\n",
    "#Covid cases in Brazil\n",
    "\n",
    "axs[1,0].plot(df_brazil['date'],df_brazil['totalCases'],label='Cases Brazil')\n",
    "axs[1,0].fill_between(df_brazil['date'],df_brazil['totalCases'], alpha=0.3)\n",
    "\n",
    "#Covid deaths in Brazil\n",
    "\n",
    "axs[1,1].plot(df_brazil['date'],df_brazil['deaths'],c='r',label='Deaths Brazil')\n",
    "axs[1,1].fill_between(df_brazil['date'],df_brazil['deaths'],color='red', alpha=0.3)\n",
    "\n",
    "for i in range(2):\n",
    "    for j in range(2):\n",
    "        axs[i,j].yaxis.set_major_formatter(matplotlib.ticker.FuncFormatter(reformat_large_tick_values))\n",
    "        axs[i,j].tick_params('x', labelrotation=45,labelsize=9)\n",
    "        axs[i,j].legend(fontsize=8)\n",
    "               \n",
    "fig.tight_layout()"
   ]
  },
  {
   "cell_type": "code",
   "execution_count": null,
   "metadata": {},
   "outputs": [],
   "source": [
    "#Calculating the correlations\n",
    "\n",
    "#Correlation of the cases\n",
    "corr,pval= stats.pearsonr(df_mystate['newCases'],df_brazil['newCases'][index_start:])\n",
    "\n",
    "#Correlation of the deaths\n",
    "corr2,pval2= stats.pearsonr(df_mystate['newDeaths'],df_brazil['newDeaths'][index_start:])\n",
    "\n",
    "#Plotting the graphs\n",
    "fig,axs = plt.subplots(2,2, sharex=True, figsize=(9,4))\n",
    "\n",
    "\n",
    "#Covid cases in Federal District\n",
    "\n",
    "axs[0,0].plot(df_mystate['date'],df_mystate['newCases'],label='Cases {}'.format(state_name))\n",
    "axs[0,0].set_title('COVID-19 Daily Cases Raw',fontsize=11)\n",
    "\n",
    "\n",
    "#Covid deaths in Federal District\n",
    "\n",
    "axs[0,1].plot(df_mystate['date'],df_mystate['newDeaths'],c='r', label='Deaths {}'.format(state_name))\n",
    "axs[0,1].set_title('COVID-19 Daily Deaths Raw',fontsize=11)\n",
    "\n",
    "#Covid cases in Brazil\n",
    "\n",
    "axs[1,0].plot(df_brazil['date'],df_brazil['newCases'],label='Cases Brazil')\n",
    "\n",
    "#Covid deaths in Brazil\n",
    "\n",
    "axs[1,1].plot(df_brazil['date'],df_brazil['newDeaths'],c='r',label='Deaths Brazil')\n",
    "\n",
    "for i in range(2):\n",
    "    for j in range(2):\n",
    "        axs[i,j].yaxis.set_major_formatter(matplotlib.ticker.FuncFormatter(reformat_large_tick_values))\n",
    "        axs[i,j].tick_params('x', labelrotation=45,labelsize=9)\n",
    "        axs[i,j].legend(fontsize=8)\n",
    "    \n",
    "               \n",
    "fig.suptitle('COVID-19 Raw Cases and Deaths in {} and Brazil'.format(state_name))\n",
    "\n",
    "fig.tight_layout()\n",
    "\n",
    "fig.subplots_adjust(top=0.80)"
   ]
  },
  {
   "cell_type": "code",
   "execution_count": null,
   "metadata": {},
   "outputs": [],
   "source": [
    "#Cases per million:\n",
    "\n",
    "df_cases = (df_mystate['newCases']/pop_df)*1000000\n",
    "br_cases = (df_brazil['newCases']/pop_br)*1000000\n",
    "\n",
    "#Deaths per million:\n",
    "\n",
    "df_deaths = (df_mystate['newDeaths']/pop_df)*1000000\n",
    "br_deaths = (df_brazil['newDeaths']/pop_br)*1000000\n",
    "\n",
    "#Correlation of the cases\n",
    "corr,pval= stats.pearsonr(df_cases,br_cases[index_start:])\n",
    "\n",
    "#Correlation of the deaths\n",
    "corr2,pval2= stats.pearsonr(df_deaths,br_deaths[index_start:])\n",
    "\n",
    "#Plotting the graphs\n",
    "fig,axs = plt.subplots(2,2, sharex=True,figsize=(9,4), sharey='col')\n",
    "\n",
    "#Covid cases in the state\n",
    "\n",
    "axs[0,0].plot(df_mystate['date'],df_cases,label='Cases {}'.format(state_name))\n",
    "axs[0,0].set_title('COVID-19 Cases per Million: Correlation={}'.format(corr.round(2)) ,fontsize=11)\n",
    "\n",
    "#Covid deaths in the state\n",
    "\n",
    "axs[0,1].plot(df_mystate['date'],df_deaths,c='r', label='Deaths {}'.format(state_name))\n",
    "axs[0,1].set_title('COVID-19 Deaths per Million: Correlation={}'.format(corr2.round(2)),fontsize=11)\n",
    "axs[0,1].set_yticks((0,round(df_deaths.max()/2),round(df_deaths.max())))\n",
    "\n",
    "#Covid cases in Brazil\n",
    "\n",
    "axs[1,0].plot(df_brazil['date'],br_cases,label='Cases Brazil')\n",
    "\n",
    "#Covid deaths in Brazil\n",
    "\n",
    "axs[1,1].plot(df_brazil['date'],br_deaths,c='r',label='Deaths Brazil')\n",
    "\n",
    "for i in range(2):\n",
    "    for j in range(2):\n",
    "        axs[i,j].yaxis.set_major_formatter(matplotlib.ticker.FuncFormatter(reformat_large_tick_values))\n",
    "        axs[i,j].tick_params('x', labelrotation=45,labelsize=9)\n",
    "        axs[i,j].legend(fontsize=8)\n",
    " \n",
    "\n",
    "#Layout\n",
    "\n",
    "fig.suptitle('COVID-19 Cases and Deaths correlations between {} and Brazil (per million inhabitants)'.format(state_name))\n",
    "\n",
    "fig.tight_layout()\n",
    "\n",
    "fig.subplots_adjust(top=0.80)"
   ]
  },
  {
   "cell_type": "code",
   "execution_count": null,
   "metadata": {},
   "outputs": [],
   "source": [
    "fig,(ax1,ax2) = plt.subplots(nrows=1,ncols=2, figsize=(9.9,2))\n",
    "date=df_mystate.set_index('date').resample('M').mean()[['newCases']].reset_index()['date'].values\n",
    "value=df_mystate.set_index('date').resample('M').mean()[['newCases']].values\n",
    "ax1.plot(date,value,label='cases')\n",
    "ax1.tick_params('x', labelrotation=45,labelsize=9)\n",
    "ax1.fill_between(date,value[:, 0],alpha=0.3)\n",
    "ax1.set_title('Average of new daily COVID-19 Cases in {} (per month)'.format(state_name),size=9)\n",
    "ax1.legend()\n",
    "\n",
    "\n",
    "value2=df_mystate.set_index('date').resample('M').mean()[['newDeaths']].values\n",
    "ax2.plot(df_mystate.set_index('date').resample('M').mean()[['newDeaths']],c='r',label='deaths')\n",
    "ax2.tick_params('x', labelrotation=45,labelsize=9)\n",
    "ax2.fill_between(date,value2[ :,0],alpha=0.3,color='red')\n",
    "ax2.set_title('Average of new daily COVID-19 Deaths in {} (per month)'.format(state_name),size=9)\n",
    "ax2.legend()\n",
    "\n",
    "fig.tight_layout()"
   ]
  },
  {
   "cell_type": "code",
   "execution_count": null,
   "metadata": {},
   "outputs": [],
   "source": [
    "plt.figure(figsize=(8,3))\n",
    "plt.scatter(df_mystate['date'],df_cases, label='{}'.format(state_name),color='orange',s=13)\n",
    "plt.scatter(df_mystate['date'],br_cases[index_start:],label='Brazil',color='green',s=13)\n",
    "plt.title('Cases of COVID-19 per million of inhabitants')\n",
    "plt.tight_layout()\n",
    "plt.legend()\n",
    "plt.show()"
   ]
  },
  {
   "cell_type": "code",
   "execution_count": null,
   "metadata": {},
   "outputs": [],
   "source": [
    "plt.figure(figsize=(9.9,2))\n",
    "plt.bar(df_mystate['date'],df_mystate['newCases'], color='grey', alpha=0.5,width=0.8, label='New Daily Cases')\n",
    "plt.plot(df_mystate.set_index('date').rolling(window=7).mean()['newCases'],color='red',label='7 Days Average Mean of the Cases')\n",
    "plt.title('Cases of COVID-19 in {}'.format(state_name))\n",
    "plt.legend(fontsize=8)\n",
    "plt.tight_layout()\n",
    "plt.show()"
   ]
  },
  {
   "cell_type": "code",
   "execution_count": null,
   "metadata": {
    "scrolled": true
   },
   "outputs": [],
   "source": [
    "plt.figure(figsize=(9.9,2))\n",
    "plt.bar(df_mystate['date'],df_mystate['newDeaths'], color='grey', alpha=0.5, label='New Daily Deaths')\n",
    "plt.plot(df_mystate.set_index('date').rolling(window=7).mean()['newDeaths'],color='red',label='7 Day Average Mean of the Deaths')\n",
    "plt.title('Deaths caused by COVID-19 in {}'.format(state_name))\n",
    "plt.legend(fontsize=8)\n",
    "plt.tight_layout()\n",
    "plt.show()"
   ]
  },
  {
   "cell_type": "code",
   "execution_count": null,
   "metadata": {},
   "outputs": [],
   "source": [
    "fig, [ax1,ax2] = plt.subplots(2,1)\n",
    "ax1.hist(df_mystate['newCases'], bins=30)\n",
    "ax1.set_title('Frequency of daily new cases of COVID-19 in {}'.format(state_name), fontsize=9, fontweight='bold')\n",
    "ax1.set_xlabel('Daily number of new cases',fontsize=9)\n",
    "ax1.set_ylabel('Frequency',fontsize=9)\n",
    "\n",
    "ax2.hist(df_mystate['newDeaths'], bins=30, color='red')\n",
    "ax2.set_title('Frequency of daily new deaths caused by COVID-19 in {}'.format(state_name), fontsize=9, fontweight='bold')\n",
    "ax2.set_xlabel('Daily number of new deaths', fontsize=9)\n",
    "ax2.set_ylabel('Frequency', fontsize=9)\n",
    "\n",
    "fig.tight_layout()"
   ]
  },
  {
   "cell_type": "code",
   "execution_count": null,
   "metadata": {},
   "outputs": [],
   "source": [
    "#Calculating the number of bins\n",
    "\n",
    "df_mystate.shape[0]**(1/2)"
   ]
  },
  {
   "cell_type": "code",
   "execution_count": null,
   "metadata": {},
   "outputs": [],
   "source": [
    "df_mystate.tail()"
   ]
  },
  {
   "cell_type": "code",
   "execution_count": null,
   "metadata": {},
   "outputs": [],
   "source": [
    "df_mystate['day_week'] = df_mystate['date'].apply(lambda x: x.strftime(\"%A\"))\n",
    "df_mystate['day_week_num'] = df_mystate['date'].apply(lambda x: x.weekday())"
   ]
  },
  {
   "cell_type": "code",
   "execution_count": null,
   "metadata": {},
   "outputs": [],
   "source": [
    "df_mystate.tail()"
   ]
  },
  {
   "cell_type": "code",
   "execution_count": null,
   "metadata": {},
   "outputs": [],
   "source": [
    "df_week=df_mystate.groupby(['day_week','day_week_num']).agg({'newCases':'mean', 'newDeaths':'mean'}).reset_index()\n",
    "df_week=df_week.sort_values('day_week_num',ascending=True)"
   ]
  },
  {
   "cell_type": "code",
   "execution_count": null,
   "metadata": {},
   "outputs": [],
   "source": [
    "fig,axs = plt.subplots(2,1, sharex=True)\n",
    "\n",
    "axs[0].bar(df_week['day_week'],df_week['newCases'])\n",
    "axs[0].set_title('Mean of COVID-19 Cases by Day of Week {}'.format(state_name))\n",
    "axs[0].set_ylabel('Number of cases')\n",
    "\n",
    "\n",
    "axs[1].bar(df_week['day_week'],df_week['newDeaths'], color='red')\n",
    "axs[1].set_title('Mean of COVID-19 Deaths by Day of Week in {}'.format(state_name))\n",
    "axs[1].set_ylabel('Number of deaths')\n",
    "plt.xticks(fontsize=10)\n",
    "fig.tight_layout()\n"
   ]
  },
  {
   "cell_type": "code",
   "execution_count": null,
   "metadata": {},
   "outputs": [],
   "source": [
    "cases=(df_week['newCases'].max()/df_week['newCases'].min()-1)\n",
    "deaths=(df_week['newDeaths'].max()/df_week['newDeaths'].min()-1)\n",
    "\n",
    "fig,axs = plt.subplots(1,1)\n",
    "axs.bar('Cases',cases)\n",
    "axs.bar('Deaths',deaths,color='red')\n",
    "plt.gca().set_yticklabels(['{:.2f}%'.format(x*100) for x in plt.gca().get_yticks()])\n",
    "axs.set_title('% Difference between the best and worst week days of COVID-19')\n",
    "axs.set_xlabel('Categories')\n",
    "axs.set_ylabel('Porcentage Difference')\n",
    "fig.tight_layout()\n",
    "plt.show()"
   ]
  },
  {
   "cell_type": "code",
   "execution_count": null,
   "metadata": {},
   "outputs": [],
   "source": [
    "df_week.drop('day_week_num',axis=1).reset_index().drop('index',axis=1)"
   ]
  },
  {
   "cell_type": "code",
   "execution_count": null,
   "metadata": {},
   "outputs": [],
   "source": [
    "#Population\n",
    "pop = pop_df/pop_br\n",
    "\n",
    "#Cases (think about this later)\n",
    "cases_state = df_mystate['TotalCases'].loc[df_mystate.shape[0]-1]\n",
    "cases_br = df_brazil.reset_index()['totalCases'].loc[df_brazil.shape[0]-1]\n",
    "\n",
    "cases = cases_state/cases_br\n",
    "\n",
    "#Deaths (think about this later)\n",
    "deaths_state = df_mystate['TotalDeaths'].loc[df_mystate.shape[0]-1]\n",
    "deaths_br = df_brazil.reset_index()['deaths'].loc[df_brazil.shape[0]-1]\n",
    "\n",
    "deaths = deaths_state/deaths_br"
   ]
  },
  {
   "cell_type": "code",
   "execution_count": null,
   "metadata": {},
   "outputs": [],
   "source": [
    "fig,ax = plt.subplots()\n",
    "pop1=ax.bar('Population',pop, color='lightblue')\n",
    "cases1=ax.bar('Cases',cases)\n",
    "deaths1=ax.bar('Deaths',deaths, color='red',alpha=0.7)\n",
    "plt.gca().set_yticklabels(['{:.2f}%'.format(x*100) for x in plt.gca().get_yticks()]) \n",
    "ax.set_title('What percentage {} represents to Brazil in this 3 categories'.format(state_name))\n",
    "def autolabel(rects):\n",
    "    \"\"\"Attach a text label above each bar in *rects*, displaying its height.\"\"\"\n",
    "    for rect in rects:\n",
    "        height = rect.get_height()\n",
    "        ax.annotate('{:.2f}%'.format(height*100),\n",
    "                    xy=(rect.get_x() + rect.get_width() / 2, height),\n",
    "                    xytext=(0, 3),  # 3 points vertical offset\n",
    "                    textcoords=\"offset points\",\n",
    "                    ha='center', va='bottom')\n",
    "\n",
    "\n",
    "autolabel(pop1)\n",
    "autolabel(cases1)\n",
    "autolabel(deaths1)\n",
    "\n",
    "fig.tight_layout()"
   ]
  },
  {
   "cell_type": "code",
   "execution_count": null,
   "metadata": {},
   "outputs": [],
   "source": [
    "df_comp=pd.DataFrame({'{}'.format(state_name):[pop_df,cases_state,deaths_state], 'Brazil':[pop_br,cases_br,deaths_br]}, index=['Population','Cases','Deaths'])\n",
    "df_comp['{}'.format(state_name)]=df_comp['{}'.format(state_name)].apply(lambda x : \"{:,}\".format(x))\n",
    "df_comp['Brazil']=df_comp['Brazil'].apply(lambda x : \"{:,}\".format(x))\n",
    "df_comp"
   ]
  },
  {
   "cell_type": "code",
   "execution_count": null,
   "metadata": {},
   "outputs": [],
   "source": []
  }
 ],
 "metadata": {
  "kernelspec": {
   "display_name": "Python 3",
   "language": "python",
   "name": "python3"
  },
  "language_info": {
   "codemirror_mode": {
    "name": "ipython",
    "version": 3
   },
   "file_extension": ".py",
   "mimetype": "text/x-python",
   "name": "python",
   "nbconvert_exporter": "python",
   "pygments_lexer": "ipython3",
   "version": "3.7.6"
  }
 },
 "nbformat": 4,
 "nbformat_minor": 4
}
